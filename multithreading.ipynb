{
 "cells": [
  {
   "cell_type": "code",
   "execution_count": 1,
   "id": "630c04de-200e-4702-b489-33b4cbc5fadd",
   "metadata": {},
   "outputs": [],
   "source": [
    " #Q .1)\n",
    "    "
   ]
  },
  {
   "cell_type": "code",
   "execution_count": null,
   "id": "1555f260-3ed5-44d5-85f5-32b83b0facc8",
   "metadata": {},
   "outputs": [],
   "source": [
    "\"\"\"Multithreading in Python is the concurrent execution of multiple threads within a single process, allowing a program to \n",
    "perform multiple tasks simultaneously. Each thread represents an independent flow of control, and Python's threading module\n",
    "is commonly used to manage and work with threads.\"\"\""
   ]
  },
  {
   "cell_type": "code",
   "execution_count": null,
   "id": "9e57649b-c165-467d-9a74-30392ff46335",
   "metadata": {},
   "outputs": [],
   "source": [
    "\"\"\"Multithreading is used in programming to execute multiple threads or tasks concurrently within a single program, \n",
    "enhancing performance and responsiveness by allowing different parts of the program to run independently and in parallel.\"\"\""
   ]
  },
  {
   "cell_type": "code",
   "execution_count": null,
   "id": "722e87c6-2141-4ccd-9c16-f2e5f5d08f35",
   "metadata": {},
   "outputs": [],
   "source": [
    "\"\"\"threading module: Python module for managing and working with threads.\"\"\""
   ]
  },
  {
   "cell_type": "code",
   "execution_count": 2,
   "id": "89c11f15-4897-4d86-941d-dddb0d37e672",
   "metadata": {},
   "outputs": [],
   "source": [
    "# Q. 2)\n"
   ]
  },
  {
   "cell_type": "code",
   "execution_count": null,
   "id": "3b51e351-b31e-4024-9cb7-2a9027064a30",
   "metadata": {},
   "outputs": [],
   "source": [
    "\"\"\"threading module in Python is used to manage threads, allowing concurrent execution for multitasking and \n",
    "improving program responsiveness.\"\"\""
   ]
  },
  {
   "cell_type": "code",
   "execution_count": 43,
   "id": "e9554717-7b86-45ee-86e4-520c4f4a3fa4",
   "metadata": {},
   "outputs": [],
   "source": [
    "# activecount\n",
    "\"\"\"active_count() returns the number of currently active threads.\"\"\"\n",
    "import threading\n",
    "\n",
    "def active_thread() :\n",
    "    count = threading.active_count()\n",
    "    print(f\"Active thraed is : {count}\")"
   ]
  },
  {
   "cell_type": "code",
   "execution_count": 45,
   "id": "b98b78c8-adbf-43b6-b9ff-d0df26f51308",
   "metadata": {},
   "outputs": [],
   "source": [
    "thred1 =threading.Thread(target = active_thread)"
   ]
  },
  {
   "cell_type": "code",
   "execution_count": 46,
   "id": "a4388724-f443-4013-91b5-b2bd65165183",
   "metadata": {},
   "outputs": [],
   "source": [
    "thred2 =threading.Thread(target = active_thread)"
   ]
  },
  {
   "cell_type": "code",
   "execution_count": 47,
   "id": "42b4c7ab-b7bc-4a68-8626-821a3a0267cd",
   "metadata": {},
   "outputs": [],
   "source": [
    "thred3 =threading.Thread(target = active_thread)"
   ]
  },
  {
   "cell_type": "code",
   "execution_count": 48,
   "id": "36a395f3-7127-43ad-a82f-a846af396142",
   "metadata": {},
   "outputs": [
    {
     "name": "stdout",
     "output_type": "stream",
     "text": [
      "Active thraed is : 9\n",
      "Active thraed is : 9\n",
      "Active thraed is : 9\n"
     ]
    }
   ],
   "source": [
    "thred1.start()\n",
    "thred2.start()\n",
    "thred3.start()"
   ]
  },
  {
   "cell_type": "code",
   "execution_count": 88,
   "id": "8e58b37f-f26a-45a4-bcb5-c4e25fae037f",
   "metadata": {},
   "outputs": [],
   "source": [
    "#currentthread\n",
    "\"\"\"current_thread() returns the currently executing thread in Python's threading module.\"\"\"\n",
    "import threading\n",
    "\n",
    "def print_current_thread() :\n",
    "    current_thread =threading.current_thread()\n",
    "    print(f\"current thread name is :{current_thread.name}\")\n"
   ]
  },
  {
   "cell_type": "code",
   "execution_count": 89,
   "id": "64fd9e7e-e77c-498b-b119-5b621eaf5e08",
   "metadata": {},
   "outputs": [],
   "source": [
    "thread1 = threading.Thread(target = print_current_thread , name = \"thread1\")"
   ]
  },
  {
   "cell_type": "code",
   "execution_count": 90,
   "id": "8e74b3dc-217e-4f4d-a333-d52711a13889",
   "metadata": {},
   "outputs": [
    {
     "name": "stdout",
     "output_type": "stream",
     "text": [
      "current thread name is :thread1\n"
     ]
    }
   ],
   "source": [
    "thread1.start()\n",
    "thread1.join()"
   ]
  },
  {
   "cell_type": "code",
   "execution_count": 91,
   "id": "d462d159-0bc6-485b-83bd-c5b29b8a816d",
   "metadata": {},
   "outputs": [],
   "source": [
    "thread2 = threading.Thread(target = print_current_thread , name = \"thread2\")"
   ]
  },
  {
   "cell_type": "code",
   "execution_count": 92,
   "id": "7907e253-89d9-4a40-951a-f9a3486a3bb8",
   "metadata": {},
   "outputs": [
    {
     "name": "stdout",
     "output_type": "stream",
     "text": [
      "current thread name is :thread2\n"
     ]
    }
   ],
   "source": [
    "thread2.start()\n",
    "thread2.join()"
   ]
  },
  {
   "cell_type": "code",
   "execution_count": 7,
   "id": "2959b992-f54e-4898-bbea-1044c651a087",
   "metadata": {},
   "outputs": [],
   "source": [
    "# enumerate\n",
    "import threading\n",
    "\n",
    "def proccess_data(data , index) :\n",
    "    print( f\"processing_data at index{index} : {data}\")"
   ]
  },
  {
   "cell_type": "code",
   "execution_count": 8,
   "id": "e56bdb41-8689-480e-b72d-8246cadaa029",
   "metadata": {},
   "outputs": [],
   "source": [
    "my_list = [\"apple\" , \"banana\" , \"mango\" , \"orange\"]"
   ]
  },
  {
   "cell_type": "code",
   "execution_count": 9,
   "id": "f1afb953-589f-4176-ae16-798717b41764",
   "metadata": {},
   "outputs": [],
   "source": [
    "threads = []"
   ]
  },
  {
   "cell_type": "code",
   "execution_count": 10,
   "id": "99555edf-bdf0-4851-88d7-55cd25abcbe7",
   "metadata": {},
   "outputs": [],
   "source": [
    "for index , value in enumerate(my_list) : # enumerate\n",
    "    thred = threading.Thread(target = proccess_data , args = (value , index))\n",
    "    threads.append(thred)"
   ]
  },
  {
   "cell_type": "code",
   "execution_count": 11,
   "id": "81ca43cb-e0f8-4396-9193-fb70ff9e0f63",
   "metadata": {},
   "outputs": [
    {
     "name": "stdout",
     "output_type": "stream",
     "text": [
      "processing_data at index0 : apple\n",
      "processing_data at index1 : banana\n",
      "processing_data at index2 : mango\n",
      "processing_data at index3 : orange\n"
     ]
    }
   ],
   "source": [
    "for thr in threads :\n",
    "    thr.start()"
   ]
  },
  {
   "cell_type": "code",
   "execution_count": 1,
   "id": "39a852eb-b83b-48e4-bd76-d0145410c77e",
   "metadata": {},
   "outputs": [],
   "source": [
    "# Q .3 )\n"
   ]
  },
  {
   "cell_type": "code",
   "execution_count": null,
   "id": "a7063808-ebb5-40c2-9470-6334d8c160c3",
   "metadata": {},
   "outputs": [],
   "source": [
    "# run()\n",
    "\"\"\"Certainly! The run() function in Python is a custom function that\n",
    "typically contains a set of instructions or code to be executed. Its purpose\n",
    "is to encapsulate a specific task or piece of functionality within a program.\n",
    "The name \"run\" is arbitrary and can be replaced with any valid function name.\"\"\""
   ]
  },
  {
   "cell_type": "code",
   "execution_count": 2,
   "id": "634ba48a-b1fe-4265-b97b-9345b9551190",
   "metadata": {},
   "outputs": [
    {
     "name": "stdout",
     "output_type": "stream",
     "text": [
      "Executing the run() function.\n"
     ]
    }
   ],
   "source": [
    "def run():\n",
    "    # Code to be executed when the run() function is called\n",
    "    print(\"Executing the run() function.\")\n",
    "\n",
    "# Call the run() function\n",
    "run()\n"
   ]
  },
  {
   "cell_type": "code",
   "execution_count": null,
   "id": "d8940152-c37e-41d6-95e8-89a992d62e7f",
   "metadata": {},
   "outputs": [],
   "source": [
    "# start()\n",
    "\"\"\"The start() method in the Python threading module is used to initiate the execution of a thread.\"\"\""
   ]
  },
  {
   "cell_type": "code",
   "execution_count": 4,
   "id": "3de33df0-4eae-49fc-95ba-fc32f5a889df",
   "metadata": {},
   "outputs": [
    {
     "name": "stdout",
     "output_type": "stream",
     "text": [
      "0\n",
      "1\n",
      "2\n",
      "3\n",
      "4\n",
      "Main thread and my_thread are running concurrently.\n"
     ]
    }
   ],
   "source": [
    "import threading\n",
    "\n",
    "def print_numbers():\n",
    "    for i in range(5):\n",
    "        print(i)\n",
    "my_thread = threading.Thread(target=print_numbers)\n",
    "my_thread.start()\n",
    "print(\"Main thread and my_thread are running concurrently.\")\n"
   ]
  },
  {
   "cell_type": "code",
   "execution_count": null,
   "id": "9d6d0570-6231-42df-ba61-cc121e13c7b1",
   "metadata": {},
   "outputs": [],
   "source": [
    "# join()\n",
    "\"\"\"The join() method in the Python threading module is used to make a program wait for \n",
    "the completion of a thread before proceeding further.\"\"\""
   ]
  },
  {
   "cell_type": "code",
   "execution_count": 7,
   "id": "d58abec5-6ff2-4bf4-b275-349b1f19556e",
   "metadata": {},
   "outputs": [
    {
     "name": "stdout",
     "output_type": "stream",
     "text": [
      "Waiting for the thread to complete...\n",
      "Waiting for the thread to complete...\n",
      "Waiting for the thread to complete...\n",
      "Thread execution complete.\n",
      "Main thread continues after the completion of the other thread.\n"
     ]
    }
   ],
   "source": [
    "#isAlive()\n",
    "import threading\n",
    "import time\n",
    "\n",
    "def my_function():\n",
    "    time.sleep(3)\n",
    "    print(\"Thread execution complete.\")\n",
    "\n",
    "# Create a thread\n",
    "my_thread = threading.Thread(target=my_function)\n",
    "\n",
    "# Start the thread\n",
    "my_thread.start()\n",
    "\n",
    "# Check if the thread is alive\n",
    "while my_thread.is_alive():\n",
    "    print(\"Waiting for the thread to complete...\")\n",
    "    time.sleep(1)\n",
    "\n",
    "print(\"Main thread continues after the completion of the other thread.\")\n",
    "\n"
   ]
  },
  {
   "cell_type": "code",
   "execution_count": 1,
   "id": "951db9b3-432d-476f-8280-e569f01f2ae6",
   "metadata": {},
   "outputs": [],
   "source": [
    "# Q .4 )\n"
   ]
  },
  {
   "cell_type": "code",
   "execution_count": 2,
   "id": "3a2e4d11-d206-4dd4-85c9-f55340370423",
   "metadata": {},
   "outputs": [],
   "source": [
    "import threading"
   ]
  },
  {
   "cell_type": "code",
   "execution_count": 13,
   "id": "b758ce4e-018d-428e-b4c7-3266c194924e",
   "metadata": {},
   "outputs": [],
   "source": [
    "def print_square():\n",
    "    square = [x ** 2 for x in range(1 ,6)]\n",
    "    print(square)\n",
    "def print_cubes() :\n",
    "    cubes = [x ** 3 for x in range(1 , 6)]\n",
    "    print(cubes)"
   ]
  },
  {
   "cell_type": "code",
   "execution_count": 10,
   "id": "bb48ca7d-d6a2-4d6e-93b1-1480f8d62c24",
   "metadata": {},
   "outputs": [],
   "source": [
    "Thread1 = threading.Thread(target = print_square)"
   ]
  },
  {
   "cell_type": "code",
   "execution_count": 14,
   "id": "d7eadf18-2295-4777-a269-d5ac2efa940a",
   "metadata": {},
   "outputs": [],
   "source": [
    "Thread2 = threading.Thread(target = print_cubes)"
   ]
  },
  {
   "cell_type": "code",
   "execution_count": 12,
   "id": "cadffa7f-e3e9-4ba9-9003-0977ebdeece4",
   "metadata": {},
   "outputs": [
    {
     "name": "stdout",
     "output_type": "stream",
     "text": [
      "[1, 4, 9, 16, 25]\n"
     ]
    }
   ],
   "source": [
    "Thread1.start()"
   ]
  },
  {
   "cell_type": "code",
   "execution_count": 15,
   "id": "aa5cc6d5-53e7-4db2-b903-fa0cd496db2b",
   "metadata": {},
   "outputs": [
    {
     "name": "stdout",
     "output_type": "stream",
     "text": [
      "[1, 8, 27, 64, 125]\n"
     ]
    }
   ],
   "source": [
    "Thread2.start()"
   ]
  },
  {
   "cell_type": "code",
   "execution_count": 16,
   "id": "b41e7a0d-6a72-4153-918e-f61367f0c73b",
   "metadata": {},
   "outputs": [],
   "source": [
    "# Q.5 )\n"
   ]
  },
  {
   "cell_type": "code",
   "execution_count": null,
   "id": "d82c3214-c17b-467c-bb92-1331435da44e",
   "metadata": {},
   "outputs": [],
   "source": [
    "\"\"\"Advantage: Multithreading allows concurrent execution of threads, leading to potential parallelism.\n",
    "This can result in improved performance, especially on multi-core processors, as different threads can \n",
    "execute simultaneously.\"\"\"\n",
    "\"\"\"Advantage: Multithreading can enhance the responsiveness of applications, particularly in user interfaces.\n",
    "While one thread is performing a time-consuming task, other threads can respond to user input or handle\n",
    "background tasks.\"\"\""
   ]
  },
  {
   "cell_type": "code",
   "execution_count": null,
   "id": "fec06bab-3701-4e2a-be65-f7fbcc62a99b",
   "metadata": {},
   "outputs": [],
   "source": [
    "\"\"\"Disadvantage: Multithreading introduces complexity, and writing correct multithreaded code can be challenging.\n",
    "Issues such as race conditions, deadlocks, and thread synchronization need to be carefully managed to avoid bugs.\"\"\"\n",
    "\n",
    "\"\"\"Disadvantage: Debugging and testing multithreaded applications can be more difficult.\n",
    "Issues may not be easily reproducible and may depend on the timing of thread execution,\n",
    "making it harder to identify and fix bugs.\"\"\""
   ]
  },
  {
   "cell_type": "code",
   "execution_count": 17,
   "id": "d0874662-843d-40f5-aa32-9cf181ca0a18",
   "metadata": {},
   "outputs": [],
   "source": [
    "# Q .6 )\n"
   ]
  },
  {
   "cell_type": "code",
   "execution_count": null,
   "id": "5db7aa40-875e-4714-9e7b-3c67707f7ffd",
   "metadata": {},
   "outputs": [],
   "source": [
    "\"\"\"\n",
    "Deadlock\n",
    "Definition: A deadlock occurs when two or more processes or threads are unable to proceed because each \n",
    "is waiting for the other to release a resource.\"\"\""
   ]
  },
  {
   "cell_type": "code",
   "execution_count": null,
   "id": "dc5e800f-9a0a-4c7b-9228-0d068f56de66",
   "metadata": {},
   "outputs": [],
   "source": [
    "\"\"\"Race Conditions:\n",
    "\n",
    "Definition: A race condition occurs when the behavior of a system depends on the relative timing of events, \n",
    "such as the order of execution of threads or processes.\"\"\""
   ]
  }
 ],
 "metadata": {
  "kernelspec": {
   "display_name": "Python 3 (ipykernel)",
   "language": "python",
   "name": "python3"
  },
  "language_info": {
   "codemirror_mode": {
    "name": "ipython",
    "version": 3
   },
   "file_extension": ".py",
   "mimetype": "text/x-python",
   "name": "python",
   "nbconvert_exporter": "python",
   "pygments_lexer": "ipython3",
   "version": "3.10.8"
  }
 },
 "nbformat": 4,
 "nbformat_minor": 5
}
